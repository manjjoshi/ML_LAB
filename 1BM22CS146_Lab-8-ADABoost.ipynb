{
  "nbformat": 4,
  "nbformat_minor": 0,
  "metadata": {
    "colab": {
      "provenance": []
    },
    "kernelspec": {
      "name": "python3",
      "display_name": "Python 3"
    },
    "language_info": {
      "name": "python"
    }
  },
  "cells": [
    {
      "cell_type": "code",
      "execution_count": 4,
      "metadata": {
        "colab": {
          "base_uri": "https://localhost:8080/"
        },
        "id": "z5W6tA3vqWRC",
        "outputId": "f28a6ee0-bb75-4951-eae6-fa155a541491"
      },
      "outputs": [
        {
          "output_type": "stream",
          "name": "stdout",
          "text": [
            "Default (10 trees) Accuracy: 0.8334527587265841\n",
            "Confusion Matrix:\n",
            " [[7130  284]\n",
            " [1343 1012]]\n",
            "\n",
            "Best Accuracy: 0.83 using 73 trees\n"
          ]
        }
      ],
      "source": [
        "import pandas as pd\n",
        "from sklearn.model_selection import train_test_split\n",
        "from sklearn.ensemble import AdaBoostClassifier\n",
        "from sklearn.tree import DecisionTreeClassifier\n",
        "from sklearn.metrics import accuracy_score, confusion_matrix\n",
        "\n",
        "# Load the dataset\n",
        "df = pd.read_csv('/content/income.csv')\n",
        "\n",
        "# Features and target\n",
        "X = df[['age', 'fnlwgt', 'education_num', 'capital_gain', 'capital_loss', 'hours_per_week']]\n",
        "y = df['income_level']\n",
        "\n",
        "# Split into training and testing sets\n",
        "X_train, X_test, y_train, y_test = train_test_split(X, y, test_size=0.2, random_state=42)\n",
        "\n",
        "# Train AdaBoost classifier with 10 estimators\n",
        "ada_default = AdaBoostClassifier(n_estimators=80, random_state=42)\n",
        "ada_default.fit(X_train, y_train)\n",
        "y_pred_default = ada_default.predict(X_test)\n",
        "\n",
        "# Evaluate default model\n",
        "print(\"Default (10 trees) Accuracy:\", accuracy_score(y_test, y_pred_default))\n",
        "print(\"Confusion Matrix:\\n\", confusion_matrix(y_test, y_pred_default))\n",
        "\n",
        "# Fine-tune number of estimators\n",
        "best_score = 0\n",
        "best_n = 0\n",
        "\n",
        "for n in range(10, 101, 1):\n",
        "    ada = AdaBoostClassifier(n_estimators=n, random_state=42)\n",
        "    ada.fit(X_train, y_train)\n",
        "    y_pred = ada.predict(X_test)\n",
        "    score = accuracy_score(y_test, y_pred)\n",
        "    if score > best_score:\n",
        "        best_score = score\n",
        "        best_n = n\n",
        "\n",
        "print(f\"\\nBest Accuracy: {best_score:.2f} using {best_n} trees\")\n"
      ]
    }
  ]
}