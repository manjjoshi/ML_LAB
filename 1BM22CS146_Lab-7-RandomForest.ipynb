{
  "nbformat": 4,
  "nbformat_minor": 0,
  "metadata": {
    "colab": {
      "provenance": []
    },
    "kernelspec": {
      "name": "python3",
      "display_name": "Python 3"
    },
    "language_info": {
      "name": "python"
    }
  },
  "cells": [
    {
      "cell_type": "code",
      "execution_count": 4,
      "metadata": {
        "colab": {
          "base_uri": "https://localhost:8080/"
        },
        "id": "6jk3_7oLpTa2",
        "outputId": "67064fd8-d1dc-4d09-a1e2-86137520a699"
      },
      "outputs": [
        {
          "output_type": "stream",
          "name": "stdout",
          "text": [
            "Default (10 trees) Accuracy: 1.0\n",
            "Confusion Matrix:\n",
            " [[10  0  0]\n",
            " [ 0  9  0]\n",
            " [ 0  0 11]]\n",
            "\n",
            "Best Accuracy: 1.00 using 10 trees\n"
          ]
        }
      ],
      "source": [
        "import pandas as pd\n",
        "from sklearn.model_selection import train_test_split\n",
        "from sklearn.ensemble import RandomForestClassifier\n",
        "from sklearn.metrics import accuracy_score, confusion_matrix\n",
        "\n",
        "# Load dataset\n",
        "df = pd.read_csv('/content/iris (2).csv')\n",
        "\n",
        "# Features and target\n",
        "X = df[['sepal_length', 'sepal_width', 'petal_length', 'petal_width']]\n",
        "y = df['species']\n",
        "\n",
        "# Split into train and test sets\n",
        "X_train, X_test, y_train, y_test = train_test_split(X, y, test_size=0.2, random_state=42)\n",
        "\n",
        "# Default RF model with 10 trees\n",
        "rf_default = RandomForestClassifier(n_estimators=10, random_state=42)\n",
        "rf_default.fit(X_train, y_train)\n",
        "y_pred_default = rf_default.predict(X_test)\n",
        "\n",
        "# Accuracy and confusion matrix\n",
        "print(\"Default (10 trees) Accuracy:\", accuracy_score(y_test, y_pred_default))\n",
        "print(\"Confusion Matrix:\\n\", confusion_matrix(y_test, y_pred_default))\n",
        "\n",
        "# Fine-tune number of trees\n",
        "best_score = 0\n",
        "best_n = 0\n",
        "\n",
        "for n in range(5, 101, 5):\n",
        "    rf = RandomForestClassifier(n_estimators=n, random_state=42)\n",
        "    rf.fit(X_train, y_train)\n",
        "    y_pred = rf.predict(X_test)\n",
        "    score = accuracy_score(y_test, y_pred)\n",
        "    if score > best_score:\n",
        "        best_score = score\n",
        "        best_n = n\n",
        "\n",
        "print(f\"\\nBest Accuracy: {best_score:.2f} using {best_n} trees\")\n"
      ]
    },
    {
      "cell_type": "code",
      "source": [],
      "metadata": {
        "id": "DIDOynqeqJww"
      },
      "execution_count": null,
      "outputs": []
    }
  ]
}